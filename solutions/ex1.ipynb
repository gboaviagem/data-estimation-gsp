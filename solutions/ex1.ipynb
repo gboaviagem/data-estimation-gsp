{
 "cells": [
  {
   "cell_type": "markdown",
   "source": [
    "# Lendo os dados e importando pacotes | *Reading the data and importing packages*"
   ],
   "metadata": {}
  },
  {
   "cell_type": "code",
   "execution_count": null,
   "source": [
    "from ex1_utils import make_grid, reconstruct_from_p, are_vs_p_curve\n",
    "import matplotlib.pyplot as plt\n",
    "import numpy as np\n",
    "\n",
    "# Reading and downsampling to 64x64\n",
    "im = plt.imread(\"../resources/cameraman.tif\")[::8, ::8]\n",
    "plt.imshow(im, cmap='gray')\n",
    "\n",
    "print(\"Image shape:\", im.shape)"
   ],
   "outputs": [],
   "metadata": {}
  },
  {
   "cell_type": "markdown",
   "source": [
    "# Abordagem 1: grafo em grade com pesos unitátios | *Approach 1: grid graph with unit weights*"
   ],
   "metadata": {}
  },
  {
   "cell_type": "code",
   "execution_count": null,
   "source": [
    "N, M = im.shape\n",
    "A, coords = make_grid(N, M)\n",
    "plt.figure()\n",
    "plt.imshow(A[:128, :128])\n",
    "\n",
    "p_values1, are_values1, smallest_p1, idx1 = are_vs_p_curve(im, A)\n",
    "print(\"Compression:\", (N*M - smallest_p1)/(N*M))\n",
    "\n",
    "plt.figure()\n",
    "plt.plot(p_values1, are_values1, 'r.', label=\"Abordagem 1\")\n",
    "plt.yscale(\"log\")\n",
    "plt.show()"
   ],
   "outputs": [],
   "metadata": {}
  },
  {
   "cell_type": "markdown",
   "source": [
    "# Abordagem 2: atualizando os pesos do grafo em grade para minimizar a variação total do sinal | *Approach 2: updating weights to minimize the graph signal total variation*"
   ],
   "metadata": {}
  },
  {
   "cell_type": "code",
   "execution_count": null,
   "source": [
    "from scipy.optimize import minimize\n",
    "\n",
    "def total_variation_from_weights(weights, im):\n",
    "    \"\"\"Image signal total variation in a grid graph.\n",
    "\n",
    "    The grid graph is built as a cartesian product between two path graphs,\n",
    "    the weights of which are concatenated to form the `weights` input.\n",
    "    Parameters\n",
    "    ----------\n",
    "    weights : array\n",
    "        Concatenated weights of two path graphs. Its length equals\n",
    "        N + M - 2, where N and M are taken from the shape of `im`.\n",
    "    im : 2D array, shape=(N, M)\n",
    "        Input image.\n",
    "\n",
    "    \"\"\"\n",
    "    N, M = im.shape\n",
    "    A, _ = make_grid(\n",
    "        N, M, weights_r=weights[:(N-1)], weights_c=weights[(N-1):])\n",
    "    x = im.ravel().reshape((N*M, 1))\n",
    "    return np.linalg.norm(A @ x - x)\n",
    "\n",
    "N, M = im.shape\n",
    "rnd = np.random.RandomState(seed=2021)\n",
    "# Initializing with gaussian random weights. If the initial weights are all\n",
    "# equal, the optimizer has way more trouble finding an adjacency matrix\n",
    "# on which the graph signal is smooth.\n",
    "weights0 = 0.5 + 0.3 * rnd.randn(N-1 + M-1)\n",
    "weights0[weights0 < 0] = 0\n",
    "\n",
    "res = minimize(\n",
    "    total_variation_from_weights, args=tuple([im]), x0=weights0,\n",
    "    method='SLSQP',\n",
    "    bounds=[(0, None) for i in range(len(weights0))],\n",
    "    options=dict(disp=True, maxiter=5))\n",
    "\n",
    "print(\"Successfull?\", res.success)\n",
    "weights = res.x\n",
    "\n",
    "N, M = im.shape\n",
    "A2, _ = make_grid(N, M, weights_r=weights[:(N-1)], weights_c=weights[(N-1):])\n",
    "plt.figure()\n",
    "plt.imshow(A2[:128, :128])\n",
    "\n",
    "p_values2, are_values2, smallest_p2, idx2 = are_vs_p_curve(im, A2)\n",
    "print(\"Compression:\", (N*M - smallest_p2)/(N*M))"
   ],
   "outputs": [],
   "metadata": {}
  },
  {
   "cell_type": "code",
   "execution_count": null,
   "source": [
    "plt.figure()\n",
    "plt.plot(p_values1, are_values1, 'r.', label=\"Abordagem 1\")\n",
    "plt.plot(p_values2, are_values2, 'b.', label=\"Abordagem 2\")\n",
    "plt.xlabel(\"Valores de p\")\n",
    "plt.ylabel(\"ARE\")\n",
    "plt.yscale(\"log\")\n",
    "plt.legend(loc=\"lower left\")\n",
    "plt.savefig(\"ex1_are_vs_p_v2.pdf\", dpi=300)"
   ],
   "outputs": [],
   "metadata": {}
  },
  {
   "cell_type": "code",
   "execution_count": null,
   "source": [
    "N, M = im.shape\n",
    "weights_naive = [1] * (N-1 + M-1)\n",
    "print(\n",
    "    \"Total variation with unit weights:\",\n",
    "    total_variation_from_weights(weights_naive, im))\n",
    "\n",
    "print(\n",
    "    \"Total variation with optimized weights:\",\n",
    "    total_variation_from_weights(weights, im))"
   ],
   "outputs": [],
   "metadata": {}
  },
  {
   "cell_type": "code",
   "execution_count": null,
   "source": [
    "print(\"Smallest p for ARE < 10% in Approach 1: {}. Compression: {}%\".format(\n",
    "    smallest_p1,\n",
    "    100*(N*M - smallest_p1)/(N*M)))\n",
    "\n",
    "print(\"Smallest p for ARE < 10% in Approach 2: {}. Compression: {}%\".format(\n",
    "    smallest_p2,\n",
    "    100*(N*M - smallest_p2)/(N*M)))"
   ],
   "outputs": [],
   "metadata": {}
  }
 ],
 "metadata": {
  "orig_nbformat": 4,
  "language_info": {
   "name": "python",
   "version": "3.7.10",
   "mimetype": "text/x-python",
   "codemirror_mode": {
    "name": "ipython",
    "version": 3
   },
   "pygments_lexer": "ipython3",
   "nbconvert_exporter": "python",
   "file_extension": ".py"
  },
  "kernelspec": {
   "name": "python3",
   "display_name": "Python 3.7.10 64-bit ('gspy': conda)"
  },
  "interpreter": {
   "hash": "18e744875d724490c97dceda69fa98c3f7d0af2e31462a805d2395024a2e16bb"
  }
 },
 "nbformat": 4,
 "nbformat_minor": 2
}