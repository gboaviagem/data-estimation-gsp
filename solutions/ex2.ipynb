{
 "cells": [
  {
   "cell_type": "markdown",
   "source": [
    "# Estimação de dados de obesidade nos *US Counties* utilizando processamento de sinais sobre grafos | *Obesity data estimation in US counties using graph signal processing*\n",
    "\n",
    "*Dados originais extraídos de (data originally from) https://datausa.io/*\n",
    "\n",
    "**[PT-BR]** Este notebook contém um exercício de processamento de sinais sobre grafos (GSP, *graph signal processing*) em Python, consistindo da interpolação de dados de obesidade de 2015 nos \"condados\" americanos (unidades territoriais abaixo\n",
    "de estado e superior a cidade).\n",
    "\n",
    "**[EN]** This notebook contains a graph signal processing (GSP) exercise, consisting of the interpolation of 2015 obesity data in US counties. The chosen method was a simple low-pass filtering."
   ],
   "metadata": {}
  },
  {
   "cell_type": "markdown",
   "source": [
    "## Leitura dos dados | *Data reading*\n",
    "\n",
    "**[PT-BR]** A sigla FIPS se refere ao Federal Information Processing Standard\n",
    "(ou 'padrão federal de processamento de informação') Publication 6-4 (FIPS 6-4),\n",
    "um código de 5 dígitos que identifica os *counties* americanos. Foram desconsiderados os condados fora da faixa compreendida entre o Canadá e o México.\n",
    "\n",
    "**[EN]** The FIPS code (Federal Information Processing Standard Publication 6-4) if a 5-digit unique identifier for the US counties. The counties outside the area between Canada and Mexico were discarded."
   ],
   "metadata": {}
  },
  {
   "cell_type": "code",
   "execution_count": null,
   "source": [
    "import pygsp\n",
    "import pandas as pd\n",
    "from ex2_utils import nearest_neighbors, describe\n",
    "\n",
    "pygsp.plotting.BACKEND = 'matplotlib'\n",
    "\n",
    "df = pd.read_csv('../resources/us_obesity_by_county.csv', sep=',')\n",
    "\n",
    "# Graph signal\n",
    "s = df['adult_obesity_2015'].to_numpy() * 100\n",
    "\n",
    "df.head()"
   ],
   "outputs": [],
   "metadata": {}
  },
  {
   "cell_type": "markdown",
   "source": [
    "### Criando o grafo de kNN | *Creating the kNN graph*\n",
    "\n",
    "**[PT-BR]** Criaremos o grafo com o Networkx, um pacote  utilizando as informações de latitude e longitude para definir "
   ],
   "metadata": {}
  },
  {
   "cell_type": "code",
   "execution_count": null,
   "source": [
    "coords = df[['Longitude', 'Latitude']].to_numpy()\n",
    "N = len(coords)\n",
    "A = nearest_neighbors(coords, n_neighbors=4)\n",
    "\n",
    "G = nx.from_numpy_matrix(A)\n",
    "gsp.describe(G)"
   ],
   "outputs": [],
   "metadata": {
    "tags": []
   }
  },
  {
   "cell_type": "code",
   "execution_count": null,
   "source": [
    "import plotly.io as pio\n",
    "\n",
    "WIDTH = 700\n",
    "HEIGHT = 450"
   ],
   "outputs": [],
   "metadata": {}
  },
  {
   "cell_type": "code",
   "execution_count": null,
   "source": [
    "import utils as ut\n",
    "\n",
    "positions = ut.coords_to_positions(G, coords)\n",
    "fig01, drawing_setup = ut.plotly_graph(\n",
    "    G, positions, graph_signal=s, node_size=6, edge_width=1, return_setup=True,\n",
    "    title=\"Taxa de obesidade percentual (2015) por <i>US counties</i>\")\n",
    "\n",
    "fig01.update_layout(dict(\n",
    "    width=WIDTH,\n",
    "    height=HEIGHT\n",
    "))\n",
    "fig01.show(renderer=renderer)\n",
    "pio.write_image(fig01, 'fig01.pdf', validate=True, engine='kaleido')\n"
   ],
   "outputs": [],
   "metadata": {
    "tags": []
   }
  },
  {
   "cell_type": "code",
   "execution_count": null,
   "source": [
    "import copy\n",
    "\n",
    "frac_zero = 0.5\n",
    "\n",
    "s_ = copy.deepcopy(s)\n",
    "idx_zero = np.random.permutation(len(s))[:int(frac_zero*len(s))]\n",
    "s_[idx_zero] = 0\n",
    "\n",
    "bool_is_zero = s_ == 0"
   ],
   "outputs": [],
   "metadata": {}
  },
  {
   "cell_type": "code",
   "execution_count": null,
   "source": [
    "fig02 = ut.plotly_graph(\n",
    "    G, positions, graph_signal=s_, node_size=6, edge_width=1, drawing_setup=drawing_setup,\n",
    "    title=\"Dados com 50% de valores ausentes\")\n",
    "\n",
    "fig02.update_layout(dict(\n",
    "    width=WIDTH,\n",
    "    height=HEIGHT\n",
    "))\n",
    "\n",
    "fig02.show(renderer=renderer)\n",
    "pio.write_image(fig02, 'fig02.pdf', validate=True, engine='kaleido')"
   ],
   "outputs": [],
   "metadata": {}
  },
  {
   "cell_type": "markdown",
   "source": [
    "# Low-pass filter design\n",
    "\n",
    "Using least-squares on set of linear equations.\n",
    "\n",
    "https://docs.scipy.org/doc/scipy/reference/generated/scipy.optimize.leastsq.html"
   ],
   "metadata": {}
  },
  {
   "cell_type": "code",
   "execution_count": null,
   "source": [
    "import matplotlib.pyplot as plt\n",
    "\n",
    "# Matriz Laplaciana\n",
    "L = np.diag(A.sum(axis=1)) - A\n",
    "\n",
    "eigvals, U = np.linalg.eig(L)"
   ],
   "outputs": [],
   "metadata": {}
  },
  {
   "cell_type": "code",
   "execution_count": null,
   "source": [
    "import matplotlib.pyplot as plt\n",
    "# import matplotlib\n",
    "# matplotlib.rcParams['text.usetex'] = True\n",
    "# from matplotlib import rc\n",
    "# # rc('font',**{'family':'sans-serif','sans-serif':['Helvetica']})\n",
    "# rc('font',**{'serif':['Palatino']})\n",
    "# # rc('text', usetex=True)\n",
    "\n",
    "plt.plot(np.sort(eigvals), ':', color='#0022AB', linewidth=2, alpha=1.0)\n",
    "plt.ylabel(r'Autovalor', fontsize=12)\n",
    "plt.xlabel(r'Índice do autovalor', fontsize=12)\n",
    "plt.savefig('laplacian_eig.pdf', dpi=400)\n",
    "plt.show()"
   ],
   "outputs": [],
   "metadata": {}
  },
  {
   "cell_type": "code",
   "execution_count": null,
   "source": [
    "import numpy as np\n",
    "\n",
    "deg = 12  # Order of the low-pass filter\n",
    "eig_vander = np.fliplr(np.vander(eigvals, N=deg+1))\n",
    "\n",
    "def cost(h_coeff, x_vander, y):\n",
    "    \"\"\"\n",
    "    Cost function for a set of linear equations.\n",
    "\n",
    "    Parameters\n",
    "    ----------\n",
    "    h_coeff : np.ndarray, shape=(L+1,)\n",
    "        Array of polynomial coefficients.\n",
    "    x_vander : np.ndarray, shape=(M, L+1)\n",
    "        Vandermonde matrix with the abscissa.\n",
    "    y : np.ndarray, shape=(M,)\n",
    "        Array of expected polynomial outputs.\n",
    "    \"\"\"\n",
    "    assert isinstance(x_vander, np.ndarray), \\\n",
    "        \"x must be a np.ndarray.\"\n",
    "    return np.abs((x_vander @ h_coeff) - y)\n",
    "\n",
    "alpha = np.zeros(len(eig_vander))\n",
    "alpha[:int(len(eig_vander)/4)] = 1"
   ],
   "outputs": [],
   "metadata": {}
  },
  {
   "cell_type": "code",
   "execution_count": null,
   "source": [
    "from scipy.optimize import leastsq\n",
    "\n",
    "h_coeff_, cov_x, infodict, msg, ier = leastsq(\n",
    "    cost, x0=np.zeros(deg+1), args=(eig_vander, alpha), full_output=True)\n",
    "\n",
    "print(f\"Optimization output message: {msg}\")"
   ],
   "outputs": [],
   "metadata": {
    "tags": []
   }
  },
  {
   "cell_type": "code",
   "execution_count": null,
   "source": [
    "import matplotlib.pyplot as plt\n",
    "from numpy.polynomial import Polynomial\n",
    "\n",
    "H = Polynomial(h_coeff_)\n",
    "\n",
    "import plotly.graph_objects as go\n",
    "import numpy as np\n",
    "\n",
    "fig03 = go.Figure(\n",
    "    data=go.Scatter(\n",
    "        x=eigvals,\n",
    "        y=H(eigvals),\n",
    "        mode='markers',\n",
    "        marker=dict(\n",
    "            size=4,\n",
    "            color=\"rgba(0, 0, 150, 0.7)\")\n",
    "            )\n",
    ")\n",
    "\n",
    "# ---------------------------------------\n",
    "# Layout adjustments\n",
    "layout = dict(\n",
    "    width=700,\n",
    "    height=400,\n",
    "    font_size=12,\n",
    "    paper_bgcolor='rgba(0,0,0,0)',  # Transparent background\n",
    "    plot_bgcolor='rgba(0,0,0,0)',\n",
    "    title=dict(\n",
    "        text='Resposta em frequência do LPF',\n",
    "        x=0.5,\n",
    "        xanchor='center',\n",
    "        yanchor='top'\n",
    "        ),\n",
    "    xaxis=dict(\n",
    "        zerolinecolor=\"gray\",\n",
    "        ),\n",
    "    yaxis=dict(\n",
    "        gridwidth=1,\n",
    "        gridcolor=\"gray\",\n",
    "        zeroline=True,\n",
    "        zerolinewidth=1,\n",
    "        zerolinecolor=\"gray\",\n",
    "        )\n",
    "    )\n",
    "\n",
    "fig03.update_layout(**layout)\n",
    "\n",
    "fig03.show(renderer=renderer)\n",
    "pio.write_image(fig03, 'fig03.pdf', validate=True, engine='kaleido')"
   ],
   "outputs": [],
   "metadata": {}
  },
  {
   "cell_type": "code",
   "execution_count": null,
   "source": [
    "import matplotlib.pyplot as plt\n",
    "import matplotlib\n",
    "matplotlib.rcParams['text.usetex'] = True\n",
    "from matplotlib import rc\n",
    "# rc('font',**{'family':'sans-serif','sans-serif':['Helvetica']})\n",
    "rc('font',**{'serif':['Palatino']})\n",
    "# rc('text', usetex=True)\n",
    "\n",
    "plt.plot(eigvals, H(eigvals), 'o', color='#0022AB', markersize=2, alpha=0.7)\n",
    "plt.xlabel(r'Autovalor', fontsize=14)\n",
    "plt.ylabel(r'Resposta em frequência', fontsize=14)\n",
    "plt.savefig('lpf.pdf', dpi=200)\n",
    "plt.show()"
   ],
   "outputs": [],
   "metadata": {}
  },
  {
   "cell_type": "code",
   "execution_count": null,
   "source": [
    "Ln = nx.normalized_laplacian_matrix(G).toarray()\n",
    "lpfilter = H(Ln)"
   ],
   "outputs": [],
   "metadata": {}
  },
  {
   "cell_type": "code",
   "execution_count": null,
   "source": [
    "import copy\n",
    "\n",
    "# Row-normalizing the matrices, i.e. each row is normalized to have unit l1-norm.\n",
    "# Now the product A_ @ x makes a normalized shift: each vertex receives\n",
    "# a weighted average of the neighbors; the weights sum up to 1.\n",
    "\n",
    "A_ = copy.deepcopy(A)\n",
    "for i, row in enumerate(A_):\n",
    "    A_[i, :] = row / np.sum(row)\n",
    "\n",
    "lpfilter_ = copy.deepcopy(lpfilter)\n",
    "for i, row in enumerate(lpfilter_):\n",
    "    lpfilter_[i, :] = row / np.sum(row)"
   ],
   "outputs": [],
   "metadata": {}
  },
  {
   "cell_type": "code",
   "execution_count": null,
   "source": [
    "print(f\"MSE at non-zero samples of s_: {np.mean((s[~bool_is_zero] - s_[~bool_is_zero])**2)}\")\n",
    "print(f\"MSE at zero samples of s_: {np.mean((s[bool_is_zero] - s_[bool_is_zero])**2)}\")\n",
    "print(f\"MSE at all samples of s_: {np.mean((s - s_)**2)}\")\n",
    "\n",
    "s_naive = A_ @ s_\n",
    "s_interp = lpfilter_ @ s_\n",
    "\n",
    "for i, s_reconstructed in enumerate([s_naive, s_interp]):\n",
    "    print(f\"Case {i+1}:\")\n",
    "    print(f\"MSE of s_hat (at originally zero samples): {np.mean((s[bool_is_zero] - s_reconstructed[bool_is_zero])**2)}\")\n",
    "\n",
    "    s_hat = copy.deepcopy(s_)\n",
    "    s_hat[bool_is_zero] = s_reconstructed[bool_is_zero]\n",
    "\n",
    "    print(f\"MSE of s_hat (at all samples): {np.mean((s - s_hat)**2)}\")"
   ],
   "outputs": [],
   "metadata": {
    "tags": []
   }
  },
  {
   "cell_type": "markdown",
   "source": [
    "## Using PyGSP to interpolate"
   ],
   "metadata": {}
  },
  {
   "cell_type": "code",
   "execution_count": null,
   "source": [
    "from pygsp.reduction import interpolate\n",
    "from pygsp import graphs\n",
    "\n",
    "G_pygsp = graphs.Graph(A)\n",
    "\n",
    "s_intep2 = interpolate(G_pygsp, f_subsampled=s[~bool_is_zero], keep_inds=np.where(~bool_is_zero)[0], order=100, reg_eps=0.005)"
   ],
   "outputs": [],
   "metadata": {
    "tags": []
   }
  },
  {
   "cell_type": "code",
   "execution_count": null,
   "source": [
    "s_reconstructed = s_intep2.ravel()\n",
    "\n",
    "s_hat = copy.deepcopy(s_)\n",
    "s_hat[bool_is_zero] = s_reconstructed[bool_is_zero]\n",
    "\n",
    "print(f\"MSE of s_hat (at originally zero samples): {np.mean((s[bool_is_zero] - s_hat[bool_is_zero])**2)}\")\n",
    "print(f\"MSE of s_hat (at all samples): {np.mean((s - s_hat)**2)}\")"
   ],
   "outputs": [],
   "metadata": {
    "tags": []
   }
  },
  {
   "cell_type": "code",
   "execution_count": null,
   "source": [],
   "outputs": [],
   "metadata": {}
  }
 ],
 "metadata": {
  "kernelspec": {
   "name": "python3",
   "display_name": "Python 3.7.10 64-bit ('gspy': conda)"
  },
  "language_info": {
   "codemirror_mode": {
    "name": "ipython",
    "version": 3
   },
   "file_extension": ".py",
   "mimetype": "text/x-python",
   "name": "python",
   "nbconvert_exporter": "python",
   "pygments_lexer": "ipython3",
   "version": "3.7.10"
  },
  "interpreter": {
   "hash": "18e744875d724490c97dceda69fa98c3f7d0af2e31462a805d2395024a2e16bb"
  }
 },
 "nbformat": 4,
 "nbformat_minor": 4
}